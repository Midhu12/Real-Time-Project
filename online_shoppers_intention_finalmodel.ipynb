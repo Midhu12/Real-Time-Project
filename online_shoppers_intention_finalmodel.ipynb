{
 "cells": [
  {
   "cell_type": "code",
   "execution_count": 1,
   "id": "48deeeee",
   "metadata": {},
   "outputs": [],
   "source": [
    "import pickle"
   ]
  },
  {
   "cell_type": "code",
   "execution_count": 2,
   "id": "6ac10df9",
   "metadata": {},
   "outputs": [],
   "source": [
    "loaded_model=pickle.load(open('finalised_model_forest.sav','rb'))\n",
    "result=loaded_model.predict([[4,145,1,0,21,154,0.2,0.14,0,1,3,6,9,5,4,1,1,0,0,0,1,1,1,1,6,9]])"
   ]
  },
  {
   "cell_type": "code",
   "execution_count": 3,
   "id": "089bb1d3",
   "metadata": {},
   "outputs": [
    {
     "data": {
      "text/plain": [
       "array([False])"
      ]
     },
     "execution_count": 3,
     "metadata": {},
     "output_type": "execute_result"
    }
   ],
   "source": [
    "result"
   ]
  }
 ],
 "metadata": {
  "kernelspec": {
   "display_name": "Python 3 (ipykernel)",
   "language": "python",
   "name": "python3"
  },
  "language_info": {
   "codemirror_mode": {
    "name": "ipython",
    "version": 3
   },
   "file_extension": ".py",
   "mimetype": "text/x-python",
   "name": "python",
   "nbconvert_exporter": "python",
   "pygments_lexer": "ipython3",
   "version": "3.7.6"
  }
 },
 "nbformat": 4,
 "nbformat_minor": 5
}
